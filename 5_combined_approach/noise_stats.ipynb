{
 "cells": [
  {
   "cell_type": "code",
   "execution_count": 4,
   "metadata": {},
   "outputs": [],
   "source": [
    "import cv2\n",
    "from skimage.metrics import structural_similarity as ssim\n",
    "from skimage.metrics import peak_signal_noise_ratio as psnr\n",
    "\n",
    "def calculate_ssim_psnr(image1_path, image2_path):\n",
    "    # Read the images\n",
    "    img1 = image1_path\n",
    "    img2 = image2_path\n",
    "\n",
    "    # Convert images to grayscale if they are colored\n",
    "    if len(img1.shape) > 2 and img1.shape[2] > 1:\n",
    "        img1 = cv2.cvtColor(img1, cv2.COLOR_BGR2GRAY)\n",
    "    if len(img2.shape) > 2 and img2.shape[2] > 1:\n",
    "        img2 = cv2.cvtColor(img2, cv2.COLOR_BGR2GRAY)\n",
    "\n",
    "    # Calculate SSIM\n",
    "    ssim_index, _ = ssim(img1, img2, full=True)\n",
    "\n",
    "    # Calculate PSNR\n",
    "    psnr_value = psnr(img1, img2)\n",
    "\n",
    "    return ssim_index, psnr_value"
   ]
  },
  {
   "cell_type": "code",
   "execution_count": 5,
   "metadata": {},
   "outputs": [
    {
     "name": "stdout",
     "output_type": "stream",
     "text": [
      "SSIM: 0.4920\n",
      "PSNR: 13.35 dB\n"
     ]
    }
   ],
   "source": [
    "# Replace these paths with the paths to your images\n",
    "image_path1 = \"/Users/adrianmcintosh/Desktop/UCLA/BIOENGR M209/Project_V2/5_combined_approach/clean.png\"\n",
    "image_path2 = \"/Users/adrianmcintosh/Desktop/UCLA/BIOENGR M209/Project_V2/4_changing_cnn_model/denoised_wavelet.png\"\n",
    "\n",
    "# convert the images to the same dimensions\n",
    "img1 = cv2.imread(image_path1)\n",
    "img2 = cv2.imread(image_path2)\n",
    "img2 = cv2.resize(img2, (img1.shape[1], img1.shape[0]))\n",
    "\n",
    "# Calculate SSIM and PSNR\n",
    "ssim_value, psnr_value = calculate_ssim_psnr(img1, img2)\n",
    "\n",
    "# Print the results\n",
    "print(f\"SSIM: {ssim_value:.4f}\")\n",
    "print(f\"PSNR: {psnr_value:.2f} dB\")"
   ]
  },
  {
   "cell_type": "code",
   "execution_count": null,
   "metadata": {},
   "outputs": [],
   "source": [
    "# Replace these paths with the paths to your images\n",
    "image_path1 = \"/Users/adrianmcintosh/Desktop/UCLA/BIOENGR M209/Project_V2/5_combined_approach/clean.png\"\n",
    "image_path2 = \"/Users/adrianmcintosh/Desktop/UCLA/BIOENGR M209/Project_V2/3_denoising_techniques/denoised_nlm.png\"\n",
    "\n",
    "# convert the images to the same dimensions\n",
    "img1 = cv2.imread(image_path1)\n",
    "img2 = cv2.imread(image_path2)\n",
    "img2 = cv2.resize(img2, (img1.shape[1], img1.shape[0]))\n",
    "\n",
    "# Calculate SSIM and PSNR\n",
    "ssim_value, psnr_value = calculate_ssim_psnr(img1, img2)\n",
    "\n",
    "# Print the results\n",
    "print(f\"SSIM: {ssim_value:.4f}\")\n",
    "print(f\"PSNR: {psnr_value:.2f} dB\")"
   ]
  }
 ],
 "metadata": {
  "kernelspec": {
   "display_name": "Python 3",
   "language": "python",
   "name": "python3"
  },
  "language_info": {
   "codemirror_mode": {
    "name": "ipython",
    "version": 3
   },
   "file_extension": ".py",
   "mimetype": "text/x-python",
   "name": "python",
   "nbconvert_exporter": "python",
   "pygments_lexer": "ipython3",
   "version": "3.9.6"
  }
 },
 "nbformat": 4,
 "nbformat_minor": 2
}
