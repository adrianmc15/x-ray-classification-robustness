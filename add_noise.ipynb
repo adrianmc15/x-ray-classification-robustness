{
 "cells": [
  {
   "cell_type": "code",
   "execution_count": null,
   "metadata": {},
   "outputs": [],
   "source": [
    "\"\"\"\n",
    "PoGaIN: Poisson-Gaussian Image Noise Modeling from Paired Samples\n",
    "\n",
    "Authors: Nicolas Bähler, Majed El Helou, Étienne Objois, Kaan Okumuş, and Sabine\n",
    "Süsstrunk, Fellow, IEEE.\n",
    "\n",
    "This file contains utility methods.\n",
    "\"\"\"\n",
    "\n",
    "import numpy as np\n",
    "from PIL import Image\n",
    "from scipy.stats import norm, poisson\n",
    "\n",
    "\n",
    "def load_image(path: str, keep_shape=False) -> tuple[np.ndarray, tuple[int, int]]:\n",
    "    # Load the image and convert into numpy array\n",
    "    img = Image.open(path)\n",
    "    array = np.asarray(img)\n",
    "\n",
    "    if len(array.shape) == 3:\n",
    "        array = np.mean(array, axis=2)\n",
    "\n",
    "    array = array / 255\n",
    "\n",
    "    return array if keep_shape else (array.flatten(), array.shape)\n",
    "\n",
    "\n",
    "def add_noise(x: np.ndarray, a: float, b: float, seed=None) -> np.ndarray:\n",
    "    np.random.seed(seed)\n",
    "    n = len(x)\n",
    "\n",
    "    poisson_noise = poisson.rvs(mu=a * x, size=n)\n",
    "    gaussian_noise = norm.rvs(scale=b, size=n)\n",
    "    return poisson_noise / a + gaussian_noise\n",
    "\n",
    "\n",
    "def create_fake_image(n, lower=0, upper=1) -> np.ndarray:\n",
    "    return np.random.uniform(lower, upper, size=n)"
   ]
  },
  {
   "cell_type": "code",
   "execution_count": null,
   "metadata": {},
   "outputs": [],
   "source": [
    "%matplotlib inline\n",
    "import matplotlib.pyplot as plt\n",
    "import os\n",
    "import imageio\n",
    "\n",
    "def add_noise_to_image(image_path, a, b, seed):\n",
    "    # Define the root directory\n",
    "    root = os.path.join(os.path.abspath(''), \"..\")\n",
    "    # Load noise-free image\n",
    "    x, shape = load_image(image_path)\n",
    "\n",
    "    # Synthesize and add noise to image\n",
    "    y = add_noise(x, a, b, seed)\n",
    "\n",
    "    y = y.reshape(shape)\n",
    "    y_scaled = ((y - y.min()) / (y.max() - y.min()) * 255).astype('uint8')\n",
    "    noisy_image_path = os.path.join(root,\"Project\", \"data\", \"test\", os.path.basename(image_path))\n",
    "    imageio.imwrite(noisy_image_path, y_scaled)\n",
    "    print(f\"Noisy image saved at: {noisy_image_path}\")\n",
    "\n",
    "# Example usage:\n",
    "add_noise_to_image(\"data/test_original/AAKRKIZP.png\", 32, 0.1, 42)\n",
    "\n",
    "# Show noise-free and the noisy image"
   ]
  },
  {
   "cell_type": "code",
   "execution_count": null,
   "metadata": {},
   "outputs": [],
   "source": []
  }
 ],
 "metadata": {
  "language_info": {
   "name": "python"
  }
 },
 "nbformat": 4,
 "nbformat_minor": 2
}
