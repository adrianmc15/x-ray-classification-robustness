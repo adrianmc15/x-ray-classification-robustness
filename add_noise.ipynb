{
 "cells": [
  {
   "cell_type": "code",
   "execution_count": 4,
   "metadata": {},
   "outputs": [],
   "source": [
    "\"\"\"\n",
    "PoGaIN: Poisson-Gaussian Image Noise Modeling from Paired Samples\n",
    "\n",
    "Authors: Nicolas Bähler, Majed El Helou, Étienne Objois, Kaan Okumuş, and Sabine\n",
    "Süsstrunk, Fellow, IEEE.\n",
    "\n",
    "This file contains utility methods.\n",
    "\"\"\"\n",
    "\n",
    "import numpy as np\n",
    "from PIL import Image\n",
    "from scipy.stats import norm, poisson\n",
    "\n",
    "\n",
    "def load_image(path: str, keep_shape=False) -> tuple[np.ndarray, tuple[int, int]]:\n",
    "    # Load the image and convert into numpy array\n",
    "    img = Image.open(path)\n",
    "    array = np.asarray(img)\n",
    "\n",
    "    if len(array.shape) == 3:\n",
    "        array = np.mean(array, axis=2)\n",
    "\n",
    "    array = array / 255\n",
    "\n",
    "    return array if keep_shape else (array.flatten(), array.shape)\n",
    "\n",
    "\n",
    "def add_noise(x: np.ndarray, a: float, b: float, seed=None) -> np.ndarray:\n",
    "    np.random.seed(seed)\n",
    "    n = len(x)\n",
    "\n",
    "    poisson_noise = poisson.rvs(mu=a * x, size=n)\n",
    "    gaussian_noise = norm.rvs(scale=b, size=n)\n",
    "    return poisson_noise / a + gaussian_noise\n",
    "\n",
    "\n",
    "def create_fake_image(n, lower=0, upper=1) -> np.ndarray:\n",
    "    return np.random.uniform(lower, upper, size=n)"
   ]
  },
  {
   "cell_type": "code",
   "execution_count": 3,
   "metadata": {},
   "outputs": [],
   "source": [
    "# create correct sub-directories in TB_Chest_Radiography_Database\n",
    "import os\n",
    "os.mkdir('TB_Chest_Radiography_Database/Noise/Normal')\n",
    "os.mkdir('TB_Chest_Radiography_Database/Noise/Tuberculosis')\n",
    "os.mkdir('TB_Chest_Radiography_Database/Noise/test_set')\n",
    "os.mkdir('TB_Chest_Radiography_Database/Noise/test_set/Normal')\n",
    "os.mkdir('TB_Chest_Radiography_Database/Noise/test_set/Tuberculosis')"
   ]
  },
  {
   "cell_type": "code",
   "execution_count": 7,
   "metadata": {},
   "outputs": [],
   "source": [
    "%matplotlib inline\n",
    "import matplotlib.pyplot as plt\n",
    "import os\n",
    "import imageio\n",
    "\n",
    "def add_noise_to_image(image_path, new_path, a, b, seed):\n",
    "    # Define the root directory\n",
    "    root = os.path.join(os.path.abspath(''), \"..\")\n",
    "    # Load noise-free image\n",
    "    x, shape = load_image(image_path)\n",
    "\n",
    "    # Synthesize and add noise to image\n",
    "    y = add_noise(x, a, b, seed)\n",
    "\n",
    "    y = y.reshape(shape)\n",
    "    y_scaled = ((y - y.min()) / (y.max() - y.min()) * 255).astype('uint8')\n",
    "    noisy_image_path = os.path.join(root,'Project_V2',new_path)\n",
    "    imageio.imwrite(noisy_image_path, y_scaled)\n",
    "    # print(f\"Noisy image saved at: {noisy_image_path}\")\n",
    "\n",
    "# Example usage:\n",
    "add_noise_to_image(\"TB_Chest_Radiography_Database/Normal/Normal-1.png\", \"TB_Chest_Radiography_Database/Noise/Normal/Normal-1.png\", 32, 0.1, 42)"
   ]
  },
  {
   "cell_type": "code",
   "execution_count": 9,
   "metadata": {},
   "outputs": [
    {
     "name": "stderr",
     "output_type": "stream",
     "text": [
      "100%|██████████| 70/70 [00:02<00:00, 23.47it/s]\n",
      "100%|██████████| 350/350 [00:15<00:00, 22.42it/s]\n",
      "100%|██████████| 3150/3150 [02:19<00:00, 22.54it/s]\n",
      "100%|██████████| 630/630 [00:27<00:00, 23.30it/s]\n"
     ]
    }
   ],
   "source": [
    "# for every image in the data/test_original folder, add noise and save it to the data/test_noisy folder with the same name, and use the functions load_image and add_noise\n",
    "import os\n",
    "import numpy as np\n",
    "import cv2\n",
    "import matplotlib.pyplot as plt\n",
    "from tqdm import tqdm\n",
    "\n",
    "\n",
    "a = 32\n",
    "b = 0.1\n",
    "seed = 42\n",
    "# Load your original image (replace 'your_image_path' with the actual path)\n",
    "# for every image in data/test_original\n",
    "\n",
    "main_path = 'TB_Chest_Radiography_Database/'\n",
    "\n",
    "path = 'test_set/Tuberculosis/'\n",
    "for filename in tqdm(os.listdir(main_path + path)):\n",
    "    # Add Poisson-Gaussian noise\n",
    "    noisy_image_python = add_noise_to_image(main_path + path + filename, main_path + 'Noise/' + path + filename,a, b, seed)\n",
    "\n",
    "path = 'test_set/Normal/'\n",
    "for filename in tqdm(os.listdir(main_path + path)):\n",
    "    # Add Poisson-Gaussian noise\n",
    "    noisy_image_python = add_noise_to_image(main_path + path + filename,main_path + 'Noise/' + path + filename, a, b, seed)\n",
    "\n",
    "path = 'Normal/'\n",
    "for filename in tqdm(os.listdir(main_path + path)):\n",
    "    # Add Poisson-Gaussian noise\n",
    "    noisy_image_python = add_noise_to_image(main_path + path + filename, main_path + 'Noise/' + path + filename,a, b, seed)\n",
    "\n",
    "path = 'Tuberculosis/'\n",
    "for filename in tqdm(os.listdir(main_path + path)):\n",
    "    # Add Poisson-Gaussian noise\n",
    "    noisy_image_python = add_noise_to_image(main_path + path + filename, main_path + 'Noise/' + path + filename,a, b, seed)\n"
   ]
  },
  {
   "cell_type": "markdown",
   "metadata": {},
   "source": [
    "Creating a Mixture of Noisy and Non-Noisy Images to test on:"
   ]
  },
  {
   "cell_type": "code",
   "execution_count": null,
   "metadata": {},
   "outputs": [],
   "source": []
  }
 ],
 "metadata": {
  "kernelspec": {
   "display_name": "Python 3",
   "language": "python",
   "name": "python3"
  },
  "language_info": {
   "codemirror_mode": {
    "name": "ipython",
    "version": 3
   },
   "file_extension": ".py",
   "mimetype": "text/x-python",
   "name": "python",
   "nbconvert_exporter": "python",
   "pygments_lexer": "ipython3",
   "version": "3.9.6"
  }
 },
 "nbformat": 4,
 "nbformat_minor": 2
}
