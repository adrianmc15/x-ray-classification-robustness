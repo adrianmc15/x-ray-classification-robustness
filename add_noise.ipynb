{
 "cells": [
  {
   "cell_type": "code",
   "execution_count": 4,
   "metadata": {},
   "outputs": [],
   "source": [
    "\"\"\"\n",
    "PoGaIN: Poisson-Gaussian Image Noise Modeling from Paired Samples\n",
    "\n",
    "Authors: Nicolas Bähler, Majed El Helou, Étienne Objois, Kaan Okumuş, and Sabine\n",
    "Süsstrunk, Fellow, IEEE.\n",
    "\n",
    "This file contains utility methods.\n",
    "\"\"\"\n",
    "\n",
    "import numpy as np\n",
    "from PIL import Image\n",
    "from scipy.stats import norm, poisson\n",
    "\n",
    "\n",
    "def load_image(path: str, keep_shape=False) -> tuple[np.ndarray, tuple[int, int]]:\n",
    "    # Load the image and convert into numpy array\n",
    "    img = Image.open(path)\n",
    "    array = np.asarray(img)\n",
    "\n",
    "    if len(array.shape) == 3:\n",
    "        array = np.mean(array, axis=2)\n",
    "\n",
    "    array = array / 255\n",
    "\n",
    "    return array if keep_shape else (array.flatten(), array.shape)\n",
    "\n",
    "\n",
    "def add_noise(x: np.ndarray, a: float, b: float, seed=None) -> np.ndarray:\n",
    "    np.random.seed(seed)\n",
    "    n = len(x)\n",
    "\n",
    "    poisson_noise = poisson.rvs(mu=a * x, size=n)\n",
    "    gaussian_noise = norm.rvs(scale=b, size=n)\n",
    "    return poisson_noise / a + gaussian_noise\n",
    "\n",
    "\n",
    "def create_fake_image(n, lower=0, upper=1) -> np.ndarray:\n",
    "    return np.random.uniform(lower, upper, size=n)"
   ]
  },
  {
   "cell_type": "code",
   "execution_count": 3,
   "metadata": {},
   "outputs": [],
   "source": [
    "# create correct sub-directories in TB_Chest_Radiography_Database\n",
    "import os\n",
    "os.mkdir('TB_Chest_Radiography_Database/Noise/Normal')\n",
    "os.mkdir('TB_Chest_Radiography_Database/Noise/Tuberculosis')\n",
    "os.mkdir('TB_Chest_Radiography_Database/Noise/test_set')\n",
    "os.mkdir('TB_Chest_Radiography_Database/Noise/test_set/Normal')\n",
    "os.mkdir('TB_Chest_Radiography_Database/Noise/test_set/Tuberculosis')"
   ]
  },
  {
   "cell_type": "code",
   "execution_count": 7,
   "metadata": {},
   "outputs": [],
   "source": [
    "%matplotlib inline\n",
    "import matplotlib.pyplot as plt\n",
    "import os\n",
    "import imageio\n",
    "\n",
    "def add_noise_to_image(image_path, new_path, a, b, seed):\n",
    "    # Define the root directory\n",
    "    root = os.path.join(os.path.abspath(''), \"..\")\n",
    "    # Load noise-free image\n",
    "    x, shape = load_image(image_path)\n",
    "\n",
    "    # Synthesize and add noise to image\n",
    "    y = add_noise(x, a, b, seed)\n",
    "\n",
    "    y = y.reshape(shape)\n",
    "    y_scaled = ((y - y.min()) / (y.max() - y.min()) * 255).astype('uint8')\n",
    "    noisy_image_path = os.path.join(root,'Project_V2',new_path)\n",
    "    imageio.imwrite(noisy_image_path, y_scaled)\n",
    "    # print(f\"Noisy image saved at: {noisy_image_path}\")\n",
    "\n",
    "# Example usage:\n",
    "add_noise_to_image(\"TB_Chest_Radiography_Database/Normal/Normal-1.png\", \"TB_Chest_Radiography_Database/Noise/Normal/Normal-1.png\", 32, 0.1, 42)"
   ]
  },
  {
   "cell_type": "code",
   "execution_count": 8,
   "metadata": {},
   "outputs": [
    {
     "name": "stderr",
     "output_type": "stream",
     "text": [
      "  0%|          | 0/70 [00:00<?, ?it/s]\n"
     ]
    },
    {
     "ename": "FileNotFoundError",
     "evalue": "The directory '/Users/adrianmcintosh/Desktop/UCLA/BIOENGR M209/Project_V2/TB_Chest_Radiography_Database/Noisetest_set/Tuberculosis' does not exist",
     "output_type": "error",
     "traceback": [
      "\u001b[0;31m---------------------------------------------------------------------------\u001b[0m",
      "\u001b[0;31mFileNotFoundError\u001b[0m                         Traceback (most recent call last)",
      "\u001b[1;32m/Users/adrianmcintosh/Desktop/UCLA/BIOENGR M209/Project_V2/add_noise.ipynb Cell 4\u001b[0m line \u001b[0;36m2\n\u001b[1;32m     <a href='vscode-notebook-cell:/Users/adrianmcintosh/Desktop/UCLA/BIOENGR%20M209/Project_V2/add_noise.ipynb#W2sZmlsZQ%3D%3D?line=16'>17</a>\u001b[0m path \u001b[39m=\u001b[39m \u001b[39m'\u001b[39m\u001b[39mtest_set/Tuberculosis/\u001b[39m\u001b[39m'\u001b[39m\n\u001b[1;32m     <a href='vscode-notebook-cell:/Users/adrianmcintosh/Desktop/UCLA/BIOENGR%20M209/Project_V2/add_noise.ipynb#W2sZmlsZQ%3D%3D?line=17'>18</a>\u001b[0m \u001b[39mfor\u001b[39;00m filename \u001b[39min\u001b[39;00m tqdm(os\u001b[39m.\u001b[39mlistdir(main_path \u001b[39m+\u001b[39m path)):\n\u001b[1;32m     <a href='vscode-notebook-cell:/Users/adrianmcintosh/Desktop/UCLA/BIOENGR%20M209/Project_V2/add_noise.ipynb#W2sZmlsZQ%3D%3D?line=18'>19</a>\u001b[0m     \u001b[39m# Add Poisson-Gaussian noise\u001b[39;00m\n\u001b[0;32m---> <a href='vscode-notebook-cell:/Users/adrianmcintosh/Desktop/UCLA/BIOENGR%20M209/Project_V2/add_noise.ipynb#W2sZmlsZQ%3D%3D?line=19'>20</a>\u001b[0m     noisy_image_python \u001b[39m=\u001b[39m add_noise_to_image(main_path \u001b[39m+\u001b[39;49m path \u001b[39m+\u001b[39;49m filename, main_path \u001b[39m+\u001b[39;49m \u001b[39m'\u001b[39;49m\u001b[39mNoise\u001b[39;49m\u001b[39m'\u001b[39;49m \u001b[39m+\u001b[39;49m path \u001b[39m+\u001b[39;49m filename,a, b, seed)\n\u001b[1;32m     <a href='vscode-notebook-cell:/Users/adrianmcintosh/Desktop/UCLA/BIOENGR%20M209/Project_V2/add_noise.ipynb#W2sZmlsZQ%3D%3D?line=21'>22</a>\u001b[0m path \u001b[39m=\u001b[39m \u001b[39m'\u001b[39m\u001b[39mtest_set/Normal/\u001b[39m\u001b[39m'\u001b[39m\n\u001b[1;32m     <a href='vscode-notebook-cell:/Users/adrianmcintosh/Desktop/UCLA/BIOENGR%20M209/Project_V2/add_noise.ipynb#W2sZmlsZQ%3D%3D?line=22'>23</a>\u001b[0m \u001b[39mfor\u001b[39;00m filename \u001b[39min\u001b[39;00m tqdm(os\u001b[39m.\u001b[39mlistdir(main_path \u001b[39m+\u001b[39m path)):\n\u001b[1;32m     <a href='vscode-notebook-cell:/Users/adrianmcintosh/Desktop/UCLA/BIOENGR%20M209/Project_V2/add_noise.ipynb#W2sZmlsZQ%3D%3D?line=23'>24</a>\u001b[0m     \u001b[39m# Add Poisson-Gaussian noise\u001b[39;00m\n",
      "\u001b[1;32m/Users/adrianmcintosh/Desktop/UCLA/BIOENGR M209/Project_V2/add_noise.ipynb Cell 4\u001b[0m line \u001b[0;36m1\n\u001b[1;32m     <a href='vscode-notebook-cell:/Users/adrianmcintosh/Desktop/UCLA/BIOENGR%20M209/Project_V2/add_noise.ipynb#W2sZmlsZQ%3D%3D?line=15'>16</a>\u001b[0m y_scaled \u001b[39m=\u001b[39m ((y \u001b[39m-\u001b[39m y\u001b[39m.\u001b[39mmin()) \u001b[39m/\u001b[39m (y\u001b[39m.\u001b[39mmax() \u001b[39m-\u001b[39m y\u001b[39m.\u001b[39mmin()) \u001b[39m*\u001b[39m \u001b[39m255\u001b[39m)\u001b[39m.\u001b[39mastype(\u001b[39m'\u001b[39m\u001b[39muint8\u001b[39m\u001b[39m'\u001b[39m)\n\u001b[1;32m     <a href='vscode-notebook-cell:/Users/adrianmcintosh/Desktop/UCLA/BIOENGR%20M209/Project_V2/add_noise.ipynb#W2sZmlsZQ%3D%3D?line=16'>17</a>\u001b[0m noisy_image_path \u001b[39m=\u001b[39m os\u001b[39m.\u001b[39mpath\u001b[39m.\u001b[39mjoin(root,\u001b[39m'\u001b[39m\u001b[39mProject_V2\u001b[39m\u001b[39m'\u001b[39m,new_path)\n\u001b[0;32m---> <a href='vscode-notebook-cell:/Users/adrianmcintosh/Desktop/UCLA/BIOENGR%20M209/Project_V2/add_noise.ipynb#W2sZmlsZQ%3D%3D?line=17'>18</a>\u001b[0m imageio\u001b[39m.\u001b[39;49mimwrite(noisy_image_path, y_scaled)\n",
      "File \u001b[0;32m~/Library/Python/3.9/lib/python/site-packages/imageio/v2.py:396\u001b[0m, in \u001b[0;36mimwrite\u001b[0;34m(uri, im, format, **kwargs)\u001b[0m\n\u001b[1;32m    394\u001b[0m imopen_args \u001b[39m=\u001b[39m decypher_format_arg(\u001b[39mformat\u001b[39m)\n\u001b[1;32m    395\u001b[0m imopen_args[\u001b[39m\"\u001b[39m\u001b[39mlegacy_mode\u001b[39m\u001b[39m\"\u001b[39m] \u001b[39m=\u001b[39m \u001b[39mTrue\u001b[39;00m\n\u001b[0;32m--> 396\u001b[0m \u001b[39mwith\u001b[39;00m imopen(uri, \u001b[39m\"\u001b[39;49m\u001b[39mwi\u001b[39;49m\u001b[39m\"\u001b[39;49m, \u001b[39m*\u001b[39;49m\u001b[39m*\u001b[39;49mimopen_args) \u001b[39mas\u001b[39;00m file:\n\u001b[1;32m    397\u001b[0m     \u001b[39mreturn\u001b[39;00m file\u001b[39m.\u001b[39mwrite(im, \u001b[39m*\u001b[39m\u001b[39m*\u001b[39mkwargs)\n",
      "File \u001b[0;32m~/Library/Python/3.9/lib/python/site-packages/imageio/core/imopen.py:113\u001b[0m, in \u001b[0;36mimopen\u001b[0;34m(uri, io_mode, plugin, extension, format_hint, legacy_mode, **kwargs)\u001b[0m\n\u001b[1;32m    111\u001b[0m     request\u001b[39m.\u001b[39mformat_hint \u001b[39m=\u001b[39m format_hint\n\u001b[1;32m    112\u001b[0m \u001b[39melse\u001b[39;00m:\n\u001b[0;32m--> 113\u001b[0m     request \u001b[39m=\u001b[39m Request(uri, io_mode, format_hint\u001b[39m=\u001b[39;49mformat_hint, extension\u001b[39m=\u001b[39;49mextension)\n\u001b[1;32m    115\u001b[0m source \u001b[39m=\u001b[39m \u001b[39m\"\u001b[39m\u001b[39m<bytes>\u001b[39m\u001b[39m\"\u001b[39m \u001b[39mif\u001b[39;00m \u001b[39misinstance\u001b[39m(uri, \u001b[39mbytes\u001b[39m) \u001b[39melse\u001b[39;00m uri\n\u001b[1;32m    117\u001b[0m \u001b[39m# fast-path based on plugin\u001b[39;00m\n\u001b[1;32m    118\u001b[0m \u001b[39m# (except in legacy mode)\u001b[39;00m\n",
      "File \u001b[0;32m~/Library/Python/3.9/lib/python/site-packages/imageio/core/request.py:247\u001b[0m, in \u001b[0;36mRequest.__init__\u001b[0;34m(self, uri, mode, extension, format_hint, **kwargs)\u001b[0m\n\u001b[1;32m    244\u001b[0m     \u001b[39mraise\u001b[39;00m \u001b[39mValueError\u001b[39;00m(\u001b[39mf\u001b[39m\u001b[39m\"\u001b[39m\u001b[39mInvalid Request.Mode: \u001b[39m\u001b[39m{\u001b[39;00mmode\u001b[39m}\u001b[39;00m\u001b[39m\"\u001b[39m)\n\u001b[1;32m    246\u001b[0m \u001b[39m# Parse what was given\u001b[39;00m\n\u001b[0;32m--> 247\u001b[0m \u001b[39mself\u001b[39;49m\u001b[39m.\u001b[39;49m_parse_uri(uri)\n\u001b[1;32m    249\u001b[0m \u001b[39m# Set extension\u001b[39;00m\n\u001b[1;32m    250\u001b[0m \u001b[39mif\u001b[39;00m extension \u001b[39mis\u001b[39;00m \u001b[39mnot\u001b[39;00m \u001b[39mNone\u001b[39;00m:\n",
      "File \u001b[0;32m~/Library/Python/3.9/lib/python/site-packages/imageio/core/request.py:412\u001b[0m, in \u001b[0;36mRequest._parse_uri\u001b[0;34m(self, uri)\u001b[0m\n\u001b[1;32m    410\u001b[0m dn \u001b[39m=\u001b[39m os\u001b[39m.\u001b[39mpath\u001b[39m.\u001b[39mdirname(fn)\n\u001b[1;32m    411\u001b[0m \u001b[39mif\u001b[39;00m \u001b[39mnot\u001b[39;00m os\u001b[39m.\u001b[39mpath\u001b[39m.\u001b[39mexists(dn):\n\u001b[0;32m--> 412\u001b[0m     \u001b[39mraise\u001b[39;00m \u001b[39mFileNotFoundError\u001b[39;00m(\u001b[39m\"\u001b[39m\u001b[39mThe directory \u001b[39m\u001b[39m%r\u001b[39;00m\u001b[39m does not exist\u001b[39m\u001b[39m\"\u001b[39m \u001b[39m%\u001b[39m dn)\n",
      "\u001b[0;31mFileNotFoundError\u001b[0m: The directory '/Users/adrianmcintosh/Desktop/UCLA/BIOENGR M209/Project_V2/TB_Chest_Radiography_Database/Noisetest_set/Tuberculosis' does not exist"
     ]
    }
   ],
   "source": [
    "# for every image in the data/test_original folder, add noise and save it to the data/test_noisy folder with the same name, and use the functions load_image and add_noise\n",
    "import os\n",
    "import numpy as np\n",
    "import cv2\n",
    "import matplotlib.pyplot as plt\n",
    "from tqdm import tqdm\n",
    "\n",
    "\n",
    "a = 32\n",
    "b = 0.1\n",
    "seed = 42\n",
    "# Load your original image (replace 'your_image_path' with the actual path)\n",
    "# for every image in data/test_original\n",
    "\n",
    "main_path = 'TB_Chest_Radiography_Database/'\n",
    "\n",
    "path = 'test_set/Tuberculosis/'\n",
    "for filename in tqdm(os.listdir(main_path + path)):\n",
    "    # Add Poisson-Gaussian noise\n",
    "    noisy_image_python = add_noise_to_image(main_path + path + filename, main_path + 'Noise/' + path + filename,a, b, seed)\n",
    "\n",
    "path = 'test_set/Normal/'\n",
    "for filename in tqdm(os.listdir(main_path + path)):\n",
    "    # Add Poisson-Gaussian noise\n",
    "    noisy_image_python = add_noise_to_image(main_path + path + filename,main_path + 'Noise/' + path + filename, a, b, seed)\n",
    "\n",
    "path = 'Normal/'\n",
    "for filename in tqdm(os.listdir(main_path + path)):\n",
    "    # Add Poisson-Gaussian noise\n",
    "    noisy_image_python = add_noise_to_image(main_path + path + filename, main_path + 'Noise/' + path + filename,a, b, seed)\n",
    "\n",
    "path = 'Tuberculosis/'\n",
    "for filename in tqdm(os.listdir(main_path + path)):\n",
    "    # Add Poisson-Gaussian noise\n",
    "    noisy_image_python = add_noise_to_image(main_path + path + filename, main_path + 'Noise/' + path + filename,a, b, seed)\n"
   ]
  }
 ],
 "metadata": {
  "kernelspec": {
   "display_name": "Python 3",
   "language": "python",
   "name": "python3"
  },
  "language_info": {
   "codemirror_mode": {
    "name": "ipython",
    "version": 3
   },
   "file_extension": ".py",
   "mimetype": "text/x-python",
   "name": "python",
   "nbconvert_exporter": "python",
   "pygments_lexer": "ipython3",
   "version": "3.9.6"
  }
 },
 "nbformat": 4,
 "nbformat_minor": 2
}
