{
 "cells": [
  {
   "cell_type": "markdown",
   "metadata": {},
   "source": [
    "# Basic Noise Model"
   ]
  },
  {
   "cell_type": "code",
   "execution_count": null,
   "metadata": {},
   "outputs": [],
   "source": [
    "import os\n",
    "import sys\n",
    "import cv2\n",
    "import csv\n",
    "import numpy as np\n",
    "from tqdm import tqdm\n",
    "import matplotlib.pyplot as plt\n",
    "\n",
    "from skimage.metrics import structural_similarity as ssim\n",
    "from skimage.metrics import mean_squared_error as mse\n",
    "from skimage.metrics import peak_signal_noise_ratio as psnr\n",
    "\n",
    "def psnr_ssim_mse_mae(original, noisy):\n",
    "    \"\"\"\n",
    "    calculate the PSNR, SSIM, MSE and MAE between the original\n",
    "    and the noisy images.\n",
    "    :param original: the original image\n",
    "    :param noisy: the noisy image\n",
    "    :return: PSNR, SSIM, MSE and MAE\n",
    "    \"\"\"\n",
    "    # Convert the images to 32-bit float\n",
    "    original = original.astype(np.float32)\n",
    "    noisy = noisy.astype(np.float32)\n",
    "\n",
    "    # convert the images to grayscale\n",
    "    original = cv2.cvtColor(original, cv2.COLOR_BGR2GRAY)\n",
    "    noisy = cv2.cvtColor(noisy, cv2.COLOR_BGR2GRAY)\n",
    "\n",
    "    # calculate the PSNR, SSIM, MSE and MAE\n",
    "    psnr_value = psnr(original, noisy)\n",
    "    ssim_value = ssim(original, noisy, data_range=original.max() - original.min())\n",
    "    mse_value = mse(original, noisy)\n",
    "    mae_value = np.mean(np.abs(original - noisy))\n",
    "\n",
    "    return psnr_value, ssim_value, mse_value, mae_value"
   ]
  },
  {
   "cell_type": "code",
   "execution_count": 62,
   "metadata": {},
   "outputs": [
    {
     "name": "stdout",
     "output_type": "stream",
     "text": [
      "images generated\n"
     ]
    },
    {
     "name": "stderr",
     "output_type": "stream",
     "text": [
      "100%|██████████| 6580/6580 [00:05<00:00, 1213.79it/s]\n"
     ]
    },
    {
     "name": "stdout",
     "output_type": "stream",
     "text": [
      "training images done\n"
     ]
    },
    {
     "name": "stderr",
     "output_type": "stream",
     "text": [
      "100%|██████████| 700/700 [00:00<00:00, 1477.13it/s]"
     ]
    },
    {
     "name": "stdout",
     "output_type": "stream",
     "text": [
      "test images done\n",
      "PSNR: mean=14.343 stdv=2.899\n",
      "SSIM: mean=0.459 stdv=0.208\n",
      "MSE: mean=0.046 stdv=0.034\n",
      "MAE: mean=0.173 stdv=0.063\n"
     ]
    },
    {
     "name": "stderr",
     "output_type": "stream",
     "text": [
      "\n"
     ]
    }
   ],
   "source": [
    "# for every image in 2_training_with_noise/X.npy and the corresponding image in 4_changing_cnn_model/X_denoised.npy\n",
    "# and every image in 2_training_with_more_noise/X_test.npy and the corresponding image in 4_changing_cnn_model/X_denoised_test.npy:\n",
    "#       1) save the image to a png file \n",
    "#       2) run the psnr_ssim_mse_mae function for the two image files\n",
    "#       3) save the results to metrics_wavelet.csv\n",
    "#       4) calculate the mean and std deviation of the metrics\n",
    "\n",
    "import os\n",
    "import sys\n",
    "import cv2\n",
    "import csv\n",
    "import numpy as np\n",
    "from tqdm import tqdm\n",
    "import matplotlib.pyplot as plt\n",
    "from skimage.metrics import structural_similarity as ssim\n",
    "from skimage.metrics import mean_squared_error as mse\n",
    "from skimage.metrics import peak_signal_noise_ratio as psnr\n",
    "\n",
    "csv_file = 'metrics_noise.csv'\n",
    "\n",
    "with open(csv_file, 'a', newline='') as f:\n",
    "    writer = csv.writer(f)\n",
    "\n",
    "    if f.tell() == 0:\n",
    "        writer.writerow(['Filename','PSNR', 'SSIM', 'MSE', 'MAE'])\n",
    "\n",
    "\n",
    "psnr_wavelet = []\n",
    "ssim_wavelet = []\n",
    "mse_wavelet = []\n",
    "mae_wavelet = []\n",
    "\n",
    "print(\"images generated\")\n",
    "\n",
    "denoised_images = np.load('../2_training_with_noise/X.npy')\n",
    "original_images = np.load('../2_training_with_noise/X_no_noise.npy')\n",
    "\n",
    "for i in tqdm(range(denoised_images.shape[0])):\n",
    "    psnr_value, ssim_value, mse_value, mae_value = psnr_ssim_mse_mae(denoised_images[i],\n",
    "                                                                     original_images[i])\n",
    "    psnr_wavelet.append(psnr_value)\n",
    "    ssim_wavelet.append(ssim_value)\n",
    "    mse_wavelet.append(mse_value)\n",
    "    mae_wavelet.append(mae_value)\n",
    "\n",
    "    with open(csv_file, 'a', newline='') as f:\n",
    "        writer = csv.writer(f)\n",
    "\n",
    "        # Write the header row if the file is empty\n",
    "        writer.writerow(['train_' + str(i), psnr_value, ssim_value, mse_value, mae_value])\n",
    "\n",
    "print('training images done')\n",
    "\n",
    "# for every image in denoised_images_test and the corresponding image in original_images_test, calculate the psnr_ssim_mse_mae\n",
    "# and save the results to metrics_wavelet.csv\n",
    "\n",
    "denoised_images_test = np.load('../2_training_with_noise//X_test_noise.npy')\n",
    "original_images_test = np.load('../2_training_with_noise/X_no_noise_test.npy')\n",
    "\n",
    "for i in tqdm(range(denoised_images_test.shape[0])):\n",
    "    psnr_value, ssim_value, mse_value, mae_value = psnr_ssim_mse_mae(denoised_images_test[i],\n",
    "                                                                     original_images_test[i])\n",
    "    psnr_wavelet.append(psnr_value)\n",
    "    ssim_wavelet.append(ssim_value)\n",
    "    mse_wavelet.append(mse_value)\n",
    "    mae_wavelet.append(mae_value)\n",
    "\n",
    "    with open(csv_file, 'a', newline='') as f:\n",
    "        writer = csv.writer(f)\n",
    "\n",
    "        # Write the header row if the file is empty\n",
    "        writer.writerow(['test_' + str(i), psnr_value, ssim_value, mse_value, mae_value])\n",
    "\n",
    "print(\"test images done\")\n",
    "\n",
    "# summarize PSNR, SSIM, MSE and MAE\n",
    "print('PSNR: mean=%.3f stdv=%.3f' % (np.mean(psnr_wavelet), np.std(psnr_wavelet)))\n",
    "print('SSIM: mean=%.3f stdv=%.3f' % (np.mean(ssim_wavelet), np.std(ssim_wavelet)))\n",
    "print('MSE: mean=%.3f stdv=%.3f' % (np.mean(mse_wavelet), np.std(mse_wavelet)))\n",
    "print('MAE: mean=%.3f stdv=%.3f' % (np.mean(mae_wavelet), np.std(mae_wavelet)))"
   ]
  },
  {
   "cell_type": "code",
   "execution_count": 20,
   "metadata": {},
   "outputs": [
    {
     "name": "stderr",
     "output_type": "stream",
     "text": [
      "  0%|          | 0/3150 [00:00<?, ?it/s]"
     ]
    },
    {
     "name": "stderr",
     "output_type": "stream",
     "text": [
      "100%|██████████| 3150/3150 [01:20<00:00, 39.07it/s]\n",
      "100%|██████████| 630/630 [00:15<00:00, 41.23it/s]"
     ]
    },
    {
     "name": "stdout",
     "output_type": "stream",
     "text": [
      "PSNR: mean=14.997 stdv=1.767\n",
      "SSIM: mean=0.183 stdv=0.025\n",
      "MSE: mean=2236.297 stdv=972.897\n",
      "MAE: mean=102.742 stdv=23.497\n"
     ]
    },
    {
     "name": "stderr",
     "output_type": "stream",
     "text": [
      "\n"
     ]
    }
   ],
   "source": [
    "# # metrics for noise model 1 (noisy_data)\n",
    "\n",
    "# # calculate the PSNR, SSIM, MSE and MAE between the original\n",
    "# # and the noisy images in:\n",
    "# # (original) ../TB_Chest_Radiography_Database/Normal and ../TB_Chest_Radiography_Database/Tuberculosis calculate\n",
    "# # (noisy) ../TB_Chest_Radiography_Database/Noise/Normal and ../TB_Chest_Radiography_Database/Noise/Tuberculosis\n",
    "\n",
    "# import os\n",
    "# import sys\n",
    "# import cv2\n",
    "# import csv\n",
    "# import numpy as np\n",
    "# from tqdm import tqdm\n",
    "# import matplotlib.pyplot as plt\n",
    "# from skimage.metrics import structural_similarity as ssim\n",
    "# from skimage.metrics import mean_squared_error as mse\n",
    "# from skimage.metrics import peak_signal_noise_ratio as psnr\n",
    "\n",
    "# # path to the original images\n",
    "# path_normal = '../TB_Chest_Radiography_Database/Normal'\n",
    "# path_tuberculosis = '../TB_Chest_Radiography_Database/Tuberculosis'\n",
    "\n",
    "# # path to the noisy images\n",
    "# path_normal_noise = '../TB_Chest_Radiography_Database/Noise/Normal'\n",
    "# path_tuberculosis_noise = '../TB_Chest_Radiography_Database/Noise/Tuberculosis'\n",
    "\n",
    "\n",
    "# def psnr_ssim_mse_mae(path_original, path_noisy):\n",
    "#     \"\"\"\n",
    "#     calculate the PSNR, SSIM, MSE and MAE between the original\n",
    "#     and the noisy images in:\n",
    "#     (original) path_original\n",
    "#     (noisy) path_noisy\n",
    "#     :param path_original: path to the original images\n",
    "#     :param path_noisy: path to the noisy images\n",
    "#     :return: PSNR, SSIM, MSE and MAE\n",
    "#     \"\"\"\n",
    "#     # read the original and the noisy images\n",
    "#     original = cv2.imread(path_original)\n",
    "#     noisy = cv2.imread(path_noisy)\n",
    "\n",
    "#     # convert the images to grayscale\n",
    "#     original = cv2.cvtColor(original, cv2.COLOR_BGR2GRAY)\n",
    "#     noisy = cv2.cvtColor(noisy, cv2.COLOR_BGR2GRAY)\n",
    "\n",
    "#     # calculate the PSNR, SSIM, MSE and MAE\n",
    "#     psnr_value = psnr(original, noisy)\n",
    "#     ssim_value = ssim(original, noisy)\n",
    "#     mse_value = mse(original, noisy)\n",
    "#     mae_value = np.mean(np.abs(original - noisy))\n",
    "\n",
    "#     return psnr_value, ssim_value, mse_value, mae_value\n",
    "\n",
    "# # calculate the PSNR, SSIM, MSE and MAE for the normal images\n",
    "# # and save the results in a file\n",
    "# # and print the average\n",
    "# psnr_normal = []\n",
    "# ssim_normal = []\n",
    "# mse_normal = []\n",
    "# mae_normal = []\n",
    "\n",
    "# # do the same for the tuberculosis images, and add to metrics_noise.txt\n",
    "# psnr_tuberculosis = []\n",
    "# ssim_tuberculosis = []\n",
    "# mse_tuberculosis = []\n",
    "# mae_tuberculosis = []\n",
    "\n",
    "# # Define the CSV file path\n",
    "# csv_file = 'metrics_normal.csv'\n",
    "\n",
    "# # Open the CSV file in append mode\n",
    "# with open(csv_file, 'a', newline='') as f:\n",
    "#     writer = csv.writer(f)\n",
    "\n",
    "#     # Write the header row if the file is empty\n",
    "#     if f.tell() == 0:\n",
    "#         writer.writerow(['Filename','PSNR normal', 'SSIM normal', 'MSE normal', 'MAE normal'])\n",
    "\n",
    "# for filename in tqdm(os.listdir(path_normal)):\n",
    "#     psnr_value, ssim_value, mse_value, mae_value = psnr_ssim_mse_mae(os.path.join(path_normal, filename),\n",
    "#                                                                      os.path.join(path_normal_noise, filename))\n",
    "#     psnr_normal.append(psnr_value)\n",
    "#     ssim_normal.append(ssim_value)\n",
    "#     mse_normal.append(mse_value)\n",
    "#     mae_normal.append(mae_value)\n",
    "\n",
    "#     with open(csv_file, 'a', newline='') as f:\n",
    "#         writer = csv.writer(f)\n",
    "\n",
    "#         # Write the header row if the file is empty\n",
    "#         writer.writerow([filename, psnr_value, ssim_value, mse_value, mae_value])\n",
    "\n",
    "\n",
    "# for filename in tqdm(os.listdir(path_tuberculosis)):\n",
    "#     psnr_value, ssim_value, mse_value, mae_value = psnr_ssim_mse_mae(os.path.join(path_tuberculosis, filename),\n",
    "#                                                                      os.path.join(path_tuberculosis_noise, filename))\n",
    "#     psnr_tuberculosis.append(psnr_value)\n",
    "#     ssim_tuberculosis.append(ssim_value)\n",
    "#     mse_tuberculosis.append(mse_value)\n",
    "#     mae_tuberculosis.append(mae_value)\n",
    "\n",
    "#     with open(csv_file, 'a', newline='') as f:\n",
    "#         writer = csv.writer(f)\n",
    "\n",
    "#         # Write the header row if the file is empty\n",
    "#         writer.writerow([filename, psnr_value, ssim_value, mse_value, mae_value])\n",
    "\n",
    "\n",
    "# psnr = psnr_normal\n",
    "# ssim = ssim_normal\n",
    "# mse = mse_normal\n",
    "# mae = mae_normal\n",
    "\n",
    "# psnr.extend(psnr_tuberculosis)\n",
    "# ssim.extend(ssim_tuberculosis)\n",
    "# mse.extend(mse_tuberculosis)\n",
    "# mae.extend(mae_tuberculosis)\n",
    "\n",
    "# # summarize PSNR, SSIM, MSE and MAE\n",
    "# print('PSNR: mean=%.3f stdv=%.3f' % (np.mean(psnr), np.std(psnr)))\n",
    "# print('SSIM: mean=%.3f stdv=%.3f' % (np.mean(ssim), np.std(ssim)))\n",
    "# print('MSE: mean=%.3f stdv=%.3f' % (np.mean(mse), np.std(mse)))\n",
    "# print('MAE: mean=%.3f stdv=%.3f' % (np.mean(mae), np.std(mae)))\n",
    "\n"
   ]
  },
  {
   "cell_type": "markdown",
   "metadata": {},
   "source": [
    "# Extra Noise Model"
   ]
  },
  {
   "cell_type": "code",
   "execution_count": 63,
   "metadata": {},
   "outputs": [
    {
     "name": "stdout",
     "output_type": "stream",
     "text": [
      "images generated\n"
     ]
    },
    {
     "name": "stderr",
     "output_type": "stream",
     "text": [
      "100%|██████████| 6580/6580 [00:06<00:00, 1091.26it/s]\n"
     ]
    },
    {
     "name": "stdout",
     "output_type": "stream",
     "text": [
      "training images done\n"
     ]
    },
    {
     "name": "stderr",
     "output_type": "stream",
     "text": [
      "100%|██████████| 700/700 [00:00<00:00, 1279.73it/s]"
     ]
    },
    {
     "name": "stdout",
     "output_type": "stream",
     "text": [
      "test images done\n",
      "PSNR: mean=13.887 stdv=2.194\n",
      "SSIM: mean=0.332 stdv=0.168\n",
      "MSE: mean=0.047 stdv=0.028\n",
      "MAE: mean=0.180 stdv=0.053\n"
     ]
    },
    {
     "name": "stderr",
     "output_type": "stream",
     "text": [
      "\n"
     ]
    }
   ],
   "source": [
    "# for every image in 2_training_with_noise/X.npy and the corresponding image in 4_changing_cnn_model/X_denoised.npy\n",
    "# and every image in 2_training_with_more_noise/X_test.npy and the corresponding image in 4_changing_cnn_model/X_denoised_test.npy:\n",
    "#       1) save the image to a png file \n",
    "#       2) run the psnr_ssim_mse_mae function for the two image files\n",
    "#       3) save the results to metrics_wavelet.csv\n",
    "#       4) calculate the mean and std deviation of the metrics\n",
    "\n",
    "import os\n",
    "import sys\n",
    "import cv2\n",
    "import csv\n",
    "import numpy as np\n",
    "from tqdm import tqdm\n",
    "import matplotlib.pyplot as plt\n",
    "from skimage.metrics import structural_similarity as ssim\n",
    "from skimage.metrics import mean_squared_error as mse\n",
    "from skimage.metrics import peak_signal_noise_ratio as psnr\n",
    "\n",
    "csv_file = 'metrics_noise.csv'\n",
    "\n",
    "with open(csv_file, 'a', newline='') as f:\n",
    "    writer = csv.writer(f)\n",
    "\n",
    "    if f.tell() == 0:\n",
    "        writer.writerow(['Filename','PSNR', 'SSIM', 'MSE', 'MAE'])\n",
    "\n",
    "\n",
    "psnr_wavelet = []\n",
    "ssim_wavelet = []\n",
    "mse_wavelet = []\n",
    "mae_wavelet = []\n",
    "\n",
    "print(\"images generated\")\n",
    "\n",
    "denoised_images = np.load('../2_training_with_noise/X_more_noise.npy')\n",
    "original_images = np.load('../2_training_with_noise/X_no_noise.npy')\n",
    "\n",
    "for i in tqdm(range(denoised_images.shape[0])):\n",
    "    psnr_value, ssim_value, mse_value, mae_value = psnr_ssim_mse_mae(denoised_images[i],\n",
    "                                                                     original_images[i])\n",
    "    psnr_wavelet.append(psnr_value)\n",
    "    ssim_wavelet.append(ssim_value)\n",
    "    mse_wavelet.append(mse_value)\n",
    "    mae_wavelet.append(mae_value)\n",
    "\n",
    "    with open(csv_file, 'a', newline='') as f:\n",
    "        writer = csv.writer(f)\n",
    "\n",
    "        # Write the header row if the file is empty\n",
    "        writer.writerow(['train_' + str(i), psnr_value, ssim_value, mse_value, mae_value])\n",
    "\n",
    "print('training images done')\n",
    "\n",
    "# for every image in denoised_images_test and the corresponding image in original_images_test, calculate the psnr_ssim_mse_mae\n",
    "# and save the results to metrics_wavelet.csv\n",
    "\n",
    "denoised_images_test = np.load('../2_training_with_noise//X_test_more_noise.npy')\n",
    "original_images_test = np.load('../2_training_with_noise/X_no_noise_test.npy')\n",
    "\n",
    "for i in tqdm(range(denoised_images_test.shape[0])):\n",
    "    psnr_value, ssim_value, mse_value, mae_value = psnr_ssim_mse_mae(denoised_images_test[i],\n",
    "                                                                     original_images_test[i])\n",
    "    psnr_wavelet.append(psnr_value)\n",
    "    ssim_wavelet.append(ssim_value)\n",
    "    mse_wavelet.append(mse_value)\n",
    "    mae_wavelet.append(mae_value)\n",
    "\n",
    "    with open(csv_file, 'a', newline='') as f:\n",
    "        writer = csv.writer(f)\n",
    "\n",
    "        # Write the header row if the file is empty\n",
    "        writer.writerow(['test_' + str(i), psnr_value, ssim_value, mse_value, mae_value])\n",
    "\n",
    "print(\"test images done\")\n",
    "\n",
    "# summarize PSNR, SSIM, MSE and MAE\n",
    "print('PSNR: mean=%.3f stdv=%.3f' % (np.mean(psnr_wavelet), np.std(psnr_wavelet)))\n",
    "print('SSIM: mean=%.3f stdv=%.3f' % (np.mean(ssim_wavelet), np.std(ssim_wavelet)))\n",
    "print('MSE: mean=%.3f stdv=%.3f' % (np.mean(mse_wavelet), np.std(mse_wavelet)))\n",
    "print('MAE: mean=%.3f stdv=%.3f' % (np.mean(mae_wavelet), np.std(mae_wavelet)))"
   ]
  },
  {
   "cell_type": "code",
   "execution_count": 1,
   "metadata": {},
   "outputs": [
    {
     "name": "stderr",
     "output_type": "stream",
     "text": [
      "100%|██████████| 3150/3150 [01:24<00:00, 37.32it/s]\n",
      "100%|██████████| 630/630 [00:17<00:00, 36.65it/s]"
     ]
    },
    {
     "name": "stdout",
     "output_type": "stream",
     "text": [
      "PSNR: mean=13.812 stdv=1.440\n",
      "SSIM: mean=0.129 stdv=0.015\n",
      "MSE: mean=2857.490 stdv=1018.415\n",
      "MAE: mean=111.692 stdv=21.636\n"
     ]
    },
    {
     "name": "stderr",
     "output_type": "stream",
     "text": [
      "\n"
     ]
    }
   ],
   "source": [
    "# # metrics for noise model 2 (more_noise)\n",
    "\n",
    "# # calculate the PSNR, SSIM, MSE and MAE between the original\n",
    "# # and the noisy images in:\n",
    "# # (original) ../TB_Chest_Radiography_Database/Normal and ../TB_Chest_Radiography_Database/Tuberculosis calculate\n",
    "# # (noisy) ../TB_Chest_Radiography_Database/Noise/Normal and ../TB_Chest_Radiography_Database/Noise/Tuberculosis\n",
    "\n",
    "# import os\n",
    "# import sys\n",
    "# import cv2\n",
    "# import csv\n",
    "# import numpy as np\n",
    "# from tqdm import tqdm\n",
    "# import matplotlib.pyplot as plt\n",
    "# from skimage.metrics import structural_similarity as ssim\n",
    "# from skimage.metrics import mean_squared_error as mse\n",
    "# from skimage.metrics import peak_signal_noise_ratio as psnr\n",
    "\n",
    "# # path to the original images\n",
    "# path_normal = '../TB_Chest_Radiography_Database/Normal'\n",
    "# path_tuberculosis = '../TB_Chest_Radiography_Database/Tuberculosis'\n",
    "\n",
    "# # path to the noisy images\n",
    "# path_normal_noise = '../TB_Chest_Radiography_Database/More_Noise/Normal'\n",
    "# path_tuberculosis_noise = '../TB_Chest_Radiography_Database/More_Noise/Tuberculosis'\n",
    "\n",
    "\n",
    "# def psnr_ssim_mse_mae(path_original, path_noisy):\n",
    "#     \"\"\"\n",
    "#     calculate the PSNR, SSIM, MSE and MAE between the original\n",
    "#     and the noisy images in:\n",
    "#     (original) path_original\n",
    "#     (noisy) path_noisy\n",
    "#     :param path_original: path to the original images\n",
    "#     :param path_noisy: path to the noisy images\n",
    "#     :return: PSNR, SSIM, MSE and MAE\n",
    "#     \"\"\"\n",
    "#     # read the original and the noisy images\n",
    "#     original = cv2.imread(path_original)\n",
    "#     noisy = cv2.imread(path_noisy)\n",
    "\n",
    "#     # convert the images to grayscale\n",
    "#     original = cv2.cvtColor(original, cv2.COLOR_BGR2GRAY)\n",
    "#     noisy = cv2.cvtColor(noisy, cv2.COLOR_BGR2GRAY)\n",
    "\n",
    "#     # calculate the PSNR, SSIM, MSE and MAE\n",
    "#     psnr_value = psnr(original, noisy)\n",
    "#     ssim_value = ssim(original, noisy)\n",
    "#     mse_value = mse(original, noisy)\n",
    "#     mae_value = np.mean(np.abs(original - noisy))\n",
    "\n",
    "#     return psnr_value, ssim_value, mse_value, mae_value\n",
    "\n",
    "# # calculate the PSNR, SSIM, MSE and MAE for the normal images\n",
    "# # and save the results in a file\n",
    "# # and print the average\n",
    "# psnr_normal = []\n",
    "# ssim_normal = []\n",
    "# mse_normal = []\n",
    "# mae_normal = []\n",
    "\n",
    "# # do the same for the tuberculosis images, and add to metrics_noise.txt\n",
    "# psnr_tuberculosis = []\n",
    "# ssim_tuberculosis = []\n",
    "# mse_tuberculosis = []\n",
    "# mae_tuberculosis = []\n",
    "\n",
    "# # Define the CSV file path\n",
    "# csv_file = 'metrics_more_noise.csv'\n",
    "\n",
    "# # Open the CSV file in append mode\n",
    "# with open(csv_file, 'a', newline='') as f:\n",
    "#     writer = csv.writer(f)\n",
    "\n",
    "#     # Write the header row if the file is empty\n",
    "#     if f.tell() == 0:\n",
    "#         writer.writerow(['Filename','PSNR normal', 'SSIM normal', 'MSE normal', 'MAE normal'])\n",
    "\n",
    "# for filename in tqdm(os.listdir(path_normal)):\n",
    "#     psnr_value, ssim_value, mse_value, mae_value = psnr_ssim_mse_mae(os.path.join(path_normal, filename),\n",
    "#                                                                      os.path.join(path_normal_noise, filename))\n",
    "#     psnr_normal.append(psnr_value)\n",
    "#     ssim_normal.append(ssim_value)\n",
    "#     mse_normal.append(mse_value)\n",
    "#     mae_normal.append(mae_value)\n",
    "\n",
    "#     with open(csv_file, 'a', newline='') as f:\n",
    "#         writer = csv.writer(f)\n",
    "\n",
    "#         # Write the header row if the file is empty\n",
    "#         writer.writerow([filename, psnr_value, ssim_value, mse_value, mae_value])\n",
    "\n",
    "\n",
    "# for filename in tqdm(os.listdir(path_tuberculosis)):\n",
    "#     psnr_value, ssim_value, mse_value, mae_value = psnr_ssim_mse_mae(os.path.join(path_tuberculosis, filename),\n",
    "#                                                                      os.path.join(path_tuberculosis_noise, filename))\n",
    "#     psnr_tuberculosis.append(psnr_value)\n",
    "#     ssim_tuberculosis.append(ssim_value)\n",
    "#     mse_tuberculosis.append(mse_value)\n",
    "#     mae_tuberculosis.append(mae_value)\n",
    "\n",
    "#     with open(csv_file, 'a', newline='') as f:\n",
    "#         writer = csv.writer(f)\n",
    "\n",
    "#         # Write the header row if the file is empty\n",
    "#         writer.writerow([filename, psnr_value, ssim_value, mse_value, mae_value])\n",
    "\n",
    "\n",
    "# psnr = psnr_normal\n",
    "# ssim = ssim_normal\n",
    "# mse = mse_normal\n",
    "# mae = mae_normal\n",
    "\n",
    "# psnr.extend(psnr_tuberculosis)\n",
    "# ssim.extend(ssim_tuberculosis)\n",
    "# mse.extend(mse_tuberculosis)\n",
    "# mae.extend(mae_tuberculosis)\n",
    "\n",
    "# # summarize PSNR, SSIM, MSE and MAE\n",
    "# print('PSNR: mean=%.3f stdv=%.3f' % (np.mean(psnr), np.std(psnr)))\n",
    "# print('SSIM: mean=%.3f stdv=%.3f' % (np.mean(ssim), np.std(ssim)))\n",
    "# print('MSE: mean=%.3f stdv=%.3f' % (np.mean(mse), np.std(mse)))\n",
    "# print('MAE: mean=%.3f stdv=%.3f' % (np.mean(mae), np.std(mae)))\n",
    "\n"
   ]
  },
  {
   "cell_type": "markdown",
   "metadata": {},
   "source": [
    "#### For testing purposes"
   ]
  },
  {
   "cell_type": "code",
   "execution_count": 55,
   "metadata": {},
   "outputs": [],
   "source": [
    "from skimage.metrics import structural_similarity as ssim\n",
    "from skimage.metrics import mean_squared_error as mse\n",
    "from skimage.metrics import peak_signal_noise_ratio as psnr\n",
    "\n",
    "def psnr_ssim_mse_mae(original, noisy):\n",
    "    \"\"\"\n",
    "    calculate the PSNR, SSIM, MSE and MAE between the original\n",
    "    and the noisy images.\n",
    "    :param original: the original image\n",
    "    :param noisy: the noisy image\n",
    "    :return: PSNR, SSIM, MSE and MAE\n",
    "    \"\"\"\n",
    "    # Convert the images to 32-bit float\n",
    "    original = original.astype(np.float32)\n",
    "    noisy = noisy.astype(np.float32)\n",
    "\n",
    "    # convert the images to grayscale\n",
    "    original = cv2.cvtColor(original, cv2.COLOR_BGR2GRAY)\n",
    "    noisy = cv2.cvtColor(noisy, cv2.COLOR_BGR2GRAY)\n",
    "\n",
    "    # calculate the PSNR, SSIM, MSE and MAE\n",
    "    psnr_value = psnr(original, noisy)\n",
    "    ssim_value = ssim(original, noisy, data_range=original.max() - original.min())\n",
    "    mse_value = mse(original, noisy)\n",
    "    mae_value = np.mean(np.abs(original - noisy))\n",
    "\n",
    "    return psnr_value, ssim_value, mse_value, mae_value"
   ]
  },
  {
   "cell_type": "code",
   "execution_count": 50,
   "metadata": {},
   "outputs": [
    {
     "name": "stdout",
     "output_type": "stream",
     "text": [
      "PSNR: 15.241\n",
      "SSIM: 0.633\n",
      "MSE: 0.030\n",
      "MAE: 0.150\n"
     ]
    }
   ],
   "source": [
    "image_a = np.load('../4_changing_cnn_model/X_denoised.npy')[0]\n",
    "image_b = np.load('../2_training_with_noise/X_no_noise.npy')[0]\n",
    "\n",
    "psnr_value, ssim_value, mse_value, mae_value = psnr_ssim_mse_mae(image_a, image_b)\n",
    "print('PSNR: %.3f' % psnr_value)\n",
    "print('SSIM: %.3f' % ssim_value)\n",
    "print('MSE: %.3f' % mse_value)\n",
    "print('MAE: %.3f' % mae_value)\n"
   ]
  },
  {
   "cell_type": "markdown",
   "metadata": {},
   "source": [
    "### Wavelet Denoising"
   ]
  },
  {
   "cell_type": "code",
   "execution_count": 58,
   "metadata": {},
   "outputs": [
    {
     "name": "stdout",
     "output_type": "stream",
     "text": [
      "images generated\n"
     ]
    },
    {
     "name": "stderr",
     "output_type": "stream",
     "text": [
      "100%|██████████| 6580/6580 [00:05<00:00, 1182.11it/s]\n"
     ]
    },
    {
     "name": "stdout",
     "output_type": "stream",
     "text": [
      "training images done\n"
     ]
    },
    {
     "name": "stderr",
     "output_type": "stream",
     "text": [
      "100%|██████████| 700/700 [00:00<00:00, 1270.10it/s]"
     ]
    },
    {
     "name": "stdout",
     "output_type": "stream",
     "text": [
      "test images\n",
      "PSNR: mean=14.599 stdv=2.931\n",
      "SSIM: mean=0.471 stdv=0.208\n",
      "MSE: mean=0.046 stdv=0.034\n",
      "MAE: mean=0.174 stdv=0.063\n"
     ]
    },
    {
     "name": "stderr",
     "output_type": "stream",
     "text": [
      "\n"
     ]
    }
   ],
   "source": [
    "# for every image in 2_training_with_noise/X.npy and the corresponding image in 4_changing_cnn_model/X_denoised.npy\n",
    "# and every image in 2_training_with_more_noise/X_test.npy and the corresponding image in 4_changing_cnn_model/X_denoised_test.npy:\n",
    "#       1) save the image to a png file \n",
    "#       2) run the psnr_ssim_mse_mae function for the two image files\n",
    "#       3) save the results to metrics_wavelet.csv\n",
    "#       4) calculate the mean and std deviation of the metrics\n",
    "\n",
    "import os\n",
    "import sys\n",
    "import cv2\n",
    "import csv\n",
    "import numpy as np\n",
    "from tqdm import tqdm\n",
    "import matplotlib.pyplot as plt\n",
    "from skimage.metrics import structural_similarity as ssim\n",
    "from skimage.metrics import mean_squared_error as mse\n",
    "from skimage.metrics import peak_signal_noise_ratio as psnr\n",
    "\n",
    "csv_file = 'metrics_wavelet.csv'\n",
    "\n",
    "with open(csv_file, 'a', newline='') as f:\n",
    "    writer = csv.writer(f)\n",
    "\n",
    "    if f.tell() == 0:\n",
    "        writer.writerow(['Filename','PSNR', 'SSIM', 'MSE', 'MAE'])\n",
    "\n",
    "\n",
    "psnr_wavelet = []\n",
    "ssim_wavelet = []\n",
    "mse_wavelet = []\n",
    "mae_wavelet = []\n",
    "\n",
    "print(\"images generated\")\n",
    "\n",
    "denoised_images = np.load('../4_changing_cnn_model/X_denoised.npy')\n",
    "original_images = np.load('../2_training_with_noise/X_no_noise.npy')\n",
    "\n",
    "for i in tqdm(range(denoised_images.shape[0])):\n",
    "    psnr_value, ssim_value, mse_value, mae_value = psnr_ssim_mse_mae(denoised_images[i],\n",
    "                                                                     original_images[i])\n",
    "    psnr_wavelet.append(psnr_value)\n",
    "    ssim_wavelet.append(ssim_value)\n",
    "    mse_wavelet.append(mse_value)\n",
    "    mae_wavelet.append(mae_value)\n",
    "\n",
    "    with open(csv_file, 'a', newline='') as f:\n",
    "        writer = csv.writer(f)\n",
    "\n",
    "        # Write the header row if the file is empty\n",
    "        writer.writerow(['train_' + str(i), psnr_value, ssim_value, mse_value, mae_value])\n",
    "\n",
    "print('training images done')\n",
    "\n",
    "# for every image in denoised_images_test and the corresponding image in original_images_test, calculate the psnr_ssim_mse_mae\n",
    "# and save the results to metrics_wavelet.csv\n",
    "\n",
    "denoised_images_test = np.load('../4_changing_cnn_model/X_test_noise_denoised.npy')\n",
    "original_images_test = np.load('../2_training_with_noise/X_no_noise_test.npy')\n",
    "\n",
    "for i in tqdm(range(denoised_images_test.shape[0])):\n",
    "    psnr_value, ssim_value, mse_value, mae_value = psnr_ssim_mse_mae(denoised_images_test[i],\n",
    "                                                                     original_images_test[i])\n",
    "    psnr_wavelet.append(psnr_value)\n",
    "    ssim_wavelet.append(ssim_value)\n",
    "    mse_wavelet.append(mse_value)\n",
    "    mae_wavelet.append(mae_value)\n",
    "\n",
    "    with open(csv_file, 'a', newline='') as f:\n",
    "        writer = csv.writer(f)\n",
    "\n",
    "        # Write the header row if the file is empty\n",
    "        writer.writerow(['test_' + str(i), psnr_value, ssim_value, mse_value, mae_value])\n",
    "\n",
    "print(\"test images done\")\n",
    "\n",
    "# summarize PSNR, SSIM, MSE and MAE\n",
    "print('PSNR: mean=%.3f stdv=%.3f' % (np.mean(psnr_wavelet), np.std(psnr_wavelet)))\n",
    "print('SSIM: mean=%.3f stdv=%.3f' % (np.mean(ssim_wavelet), np.std(ssim_wavelet)))\n",
    "print('MSE: mean=%.3f stdv=%.3f' % (np.mean(mse_wavelet), np.std(mse_wavelet)))\n",
    "print('MAE: mean=%.3f stdv=%.3f' % (np.mean(mae_wavelet), np.std(mae_wavelet)))"
   ]
  },
  {
   "cell_type": "markdown",
   "metadata": {},
   "source": [
    "### NLM Denoising"
   ]
  },
  {
   "cell_type": "code",
   "execution_count": 60,
   "metadata": {},
   "outputs": [
    {
     "name": "stdout",
     "output_type": "stream",
     "text": [
      "images generated\n"
     ]
    },
    {
     "name": "stderr",
     "output_type": "stream",
     "text": [
      "100%|██████████| 6580/6580 [00:05<00:00, 1197.91it/s]\n"
     ]
    },
    {
     "name": "stdout",
     "output_type": "stream",
     "text": [
      "training images done\n"
     ]
    },
    {
     "name": "stderr",
     "output_type": "stream",
     "text": [
      "100%|██████████| 700/700 [00:00<00:00, 1315.15it/s]"
     ]
    },
    {
     "name": "stdout",
     "output_type": "stream",
     "text": [
      "test images done\n",
      "PSNR: mean=14.359 stdv=2.911\n",
      "SSIM: mean=0.500 stdv=0.217\n",
      "MSE: mean=0.046 stdv=0.034\n",
      "MAE: mean=0.173 stdv=0.063\n"
     ]
    },
    {
     "name": "stderr",
     "output_type": "stream",
     "text": [
      "\n"
     ]
    }
   ],
   "source": [
    "# metrics for nlm denoising model\n",
    "\n",
    "import os\n",
    "import sys\n",
    "import cv2\n",
    "import csv\n",
    "import numpy as np\n",
    "from tqdm import tqdm\n",
    "import matplotlib.pyplot as plt\n",
    "from skimage.metrics import structural_similarity as ssim\n",
    "from skimage.metrics import mean_squared_error as mse\n",
    "from skimage.metrics import peak_signal_noise_ratio as psnr\n",
    "\n",
    "csv_file = 'metrics_nlm.csv'\n",
    "\n",
    "with open(csv_file, 'a', newline='') as f:\n",
    "    writer = csv.writer(f)\n",
    "\n",
    "    if f.tell() == 0:\n",
    "        writer.writerow(['Filename','PSNR', 'SSIM', 'MSE', 'MAE'])\n",
    "\n",
    "\n",
    "psnr_wavelet = []\n",
    "ssim_wavelet = []\n",
    "mse_wavelet = []\n",
    "mae_wavelet = []\n",
    "\n",
    "print(\"images generated\")\n",
    "\n",
    "denoised_images = np.load('../3_denoising_techniques/X_denoised.npy')\n",
    "original_images = np.load('../2_training_with_noise/X_no_noise.npy')\n",
    "\n",
    "for i in tqdm(range(denoised_images.shape[0])):\n",
    "    psnr_value, ssim_value, mse_value, mae_value = psnr_ssim_mse_mae(denoised_images[i],\n",
    "                                                                     original_images[i])\n",
    "    psnr_wavelet.append(psnr_value)\n",
    "    ssim_wavelet.append(ssim_value)\n",
    "    mse_wavelet.append(mse_value)\n",
    "    mae_wavelet.append(mae_value)\n",
    "\n",
    "    with open(csv_file, 'a', newline='') as f:\n",
    "        writer = csv.writer(f)\n",
    "\n",
    "        # Write the header row if the file is empty\n",
    "        writer.writerow(['train_' + str(i), psnr_value, ssim_value, mse_value, mae_value])\n",
    "\n",
    "print('training images done')\n",
    "\n",
    "# for every image in denoised_images_test and the corresponding image in original_images_test, calculate the psnr_ssim_mse_mae\n",
    "# and save the results to metrics_wavelet.csv\n",
    "\n",
    "denoised_images_test = np.load('../3_denoising_techniques/X_test_noise_denoised.npy')\n",
    "original_images_test = np.load('../2_training_with_noise/X_no_noise_test.npy')\n",
    "\n",
    "for i in tqdm(range(denoised_images_test.shape[0])):\n",
    "    psnr_value, ssim_value, mse_value, mae_value = psnr_ssim_mse_mae(denoised_images_test[i],\n",
    "                                                                     original_images_test[i])\n",
    "    psnr_wavelet.append(psnr_value)\n",
    "    ssim_wavelet.append(ssim_value)\n",
    "    mse_wavelet.append(mse_value)\n",
    "    mae_wavelet.append(mae_value)\n",
    "\n",
    "    with open(csv_file, 'a', newline='') as f:\n",
    "        writer = csv.writer(f)\n",
    "\n",
    "        # Write the header row if the file is empty\n",
    "        writer.writerow(['test_' + str(i), psnr_value, ssim_value, mse_value, mae_value])\n",
    "\n",
    "print(\"test images done\")\n",
    "\n",
    "# summarize PSNR, SSIM, MSE and MAE\n",
    "print('PSNR: mean=%.3f stdv=%.3f' % (np.mean(psnr_wavelet), np.std(psnr_wavelet)))\n",
    "print('SSIM: mean=%.3f stdv=%.3f' % (np.mean(ssim_wavelet), np.std(ssim_wavelet)))\n",
    "print('MSE: mean=%.3f stdv=%.3f' % (np.mean(mse_wavelet), np.std(mse_wavelet)))\n",
    "print('MAE: mean=%.3f stdv=%.3f' % (np.mean(mae_wavelet), np.std(mae_wavelet)))"
   ]
  }
 ],
 "metadata": {
  "kernelspec": {
   "display_name": "Python 3",
   "language": "python",
   "name": "python3"
  },
  "language_info": {
   "codemirror_mode": {
    "name": "ipython",
    "version": 3
   },
   "file_extension": ".py",
   "mimetype": "text/x-python",
   "name": "python",
   "nbconvert_exporter": "python",
   "pygments_lexer": "ipython3",
   "version": "3.9.6"
  }
 },
 "nbformat": 4,
 "nbformat_minor": 2
}
